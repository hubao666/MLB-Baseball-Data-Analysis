{
 "cells": [
  {
   "cell_type": "code",
   "execution_count": 1,
   "metadata": {},
   "outputs": [],
   "source": [
    "import pandas as pd\n",
    "import numpy as np\n",
    "import pybaseball as pyb\n",
    "import matplotlib.pyplot as plt\n",
    "\n",
    "pyb.cache.enable()"
   ]
  },
  {
   "cell_type": "code",
   "execution_count": 7,
   "metadata": {},
   "outputs": [
    {
     "name": "stdout",
     "output_type": "stream",
     "text": [
      "This is a large query, it may take a moment to complete\n"
     ]
    },
    {
     "name": "stderr",
     "output_type": "stream",
     "text": [
      "100%|██████████| 154/154 [00:02<00:00, 58.92it/s]\n"
     ]
    }
   ],
   "source": [
    "statcast_data = pyb.statcast(start_dt='2023-03-30', end_dt='2023-8-30')"
   ]
  },
  {
   "cell_type": "markdown",
   "metadata": {},
   "source": [
    "### Goal: To see and understand how a starting MLB pitcher’s performance evolves over a 5 year period."
   ]
  },
  {
   "cell_type": "markdown",
   "metadata": {},
   "source": [
    "## Function that quiry Pitcher's information given name"
   ]
  },
  {
   "cell_type": "code",
   "execution_count": 99,
   "metadata": {},
   "outputs": [],
   "source": [
    "features_to_keep_main = [\n",
    "    'pitch_type', \n",
    "    'game_date', \n",
    "    'release_speed', \n",
    "    'release_pos_x', \n",
    "    'release_pos_z', \n",
    "    'player_name', \n",
    "    'events', \n",
    "    'zone', \n",
    "    'balls', \n",
    "    'strikes', \n",
    "    'game_year', \n",
    "    'pfx_x', \n",
    "    'pfx_z', \n",
    "    'plate_x', \n",
    "    'plate_z', \n",
    "    'outs_when_up', \n",
    "    'inning', \n",
    "    'inning_topbot', \n",
    "    'release_spin_rate', \n",
    "    'release_extension', \n",
    "    'delta_home_win_exp', \n",
    "    'delta_run_exp'\n",
    "]\n",
    "\n",
    "start_time_main = '2015-04-01'\n",
    "end_time_main = '2020-07-15'\n"
   ]
  },
  {
   "cell_type": "code",
   "execution_count": 100,
   "metadata": {},
   "outputs": [],
   "source": [
    "def get_pitchers_info(firstname, lastname, features_to_keep=features_to_keep_main, start_time=start_time_main, end_time=end_time_main):\n",
    "    player_info = pyb.playerid_lookup(lastname, firstname)\n",
    "    \n",
    "    if player_info.empty:\n",
    "        raise ValueError(f\"No player found for name: {firstname} {lastname}\")\n",
    "    \n",
    "    player_id = player_info['key_mlbam'].iloc[0]\n",
    "    \n",
    "    data = pyb.statcast_pitcher(start_time, end_time, player_id=player_id)\n",
    "    filtered_data = data[features_to_keep]\n",
    "    filtered_data = filtered_data.dropna()\n",
    "\n",
    "    earlist = pd.to_datetime(sorted(filtered_data.game_date.unique())[0])\n",
    "    latest = pd.to_datetime(sorted(filtered_data.game_date.unique())[-1])\n",
    "    print(f'Loaded data for pitcher {firstname} {lastname} from {earlist} to {latest}')\n",
    "    print(f'with {filtered_data.shape[0]} data points and {filtered_data.shape[1]} features')\n",
    "    print()\n",
    "    return filtered_data"
   ]
  },
  {
   "cell_type": "code",
   "execution_count": 101,
   "metadata": {},
   "outputs": [
    {
     "name": "stdout",
     "output_type": "stream",
     "text": [
      "Gathering Player Data\n",
      "Loaded data for pitcher patrick corbin from 2015-07-04 00:00:00 to 2019-10-30 00:00:00\n",
      "with 3455 data points and 22 features\n",
      "\n"
     ]
    },
    {
     "name": "stderr",
     "output_type": "stream",
     "text": [
      "/Users/baohu/anaconda3/lib/python3.11/site-packages/pybaseball/utils.py:295: DtypeWarning: Columns (43) have mixed types. Specify dtype option on import or set low_memory=False.\n",
      "  df = pd.read_csv(io.StringIO(data.text))\n"
     ]
    }
   ],
   "source": [
    "firstname = 'patrick'\n",
    "lastname = 'corbin'\n",
    "\n",
    "pat_df = get_pitchers_info(firstname, lastname)"
   ]
  }
 ],
 "metadata": {
  "kernelspec": {
   "display_name": "base",
   "language": "python",
   "name": "python3"
  },
  "language_info": {
   "codemirror_mode": {
    "name": "ipython",
    "version": 3
   },
   "file_extension": ".py",
   "mimetype": "text/x-python",
   "name": "python",
   "nbconvert_exporter": "python",
   "pygments_lexer": "ipython3",
   "version": "3.11.5"
  }
 },
 "nbformat": 4,
 "nbformat_minor": 2
}
